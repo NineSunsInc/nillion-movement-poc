{
 "cells": [
  {
   "cell_type": "code",
   "execution_count": 2,
   "metadata": {},
   "outputs": [
    {
     "name": "stderr",
     "output_type": "stream",
     "text": [
      "/Users/nguyentruong/Library/Caches/pypoetry/virtualenvs/mighty-agent-QIDbtWhq-py3.12/lib/python3.12/site-packages/tqdm/auto.py:21: TqdmWarning: IProgress not found. Please update jupyter and ipywidgets. See https://ipywidgets.readthedocs.io/en/stable/user_install.html\n",
      "  from .autonotebook import tqdm as notebook_tqdm\n"
     ]
    }
   ],
   "source": [
    "from agent_modules.opensearch.opensearch_service import OpenSearchService\n",
    "\n",
    "os_service = OpenSearchService()"
   ]
  },
  {
   "cell_type": "markdown",
   "metadata": {},
   "source": [
    "# Delete all indexes"
   ]
  },
  {
   "cell_type": "code",
   "execution_count": 5,
   "metadata": {},
   "outputs": [
    {
     "data": {
      "text/plain": [
       "{'acknowledged': True}"
      ]
     },
     "execution_count": 5,
     "metadata": {},
     "output_type": "execute_result"
    }
   ],
   "source": [
    "# # Remember to comment out this line if we don't want to delete all indexes\n",
    "# os_service.delete_index(\"*\")\n"
   ]
  },
  {
   "cell_type": "markdown",
   "metadata": {},
   "source": [
    "# Crawl Markdown files from Movement, Polygon, and ZG documentation repositories"
   ]
  },
  {
   "cell_type": "code",
   "execution_count": 6,
   "metadata": {},
   "outputs": [],
   "source": [
    "import aiohttp\n",
    "import asyncio\n",
    "\n",
    "async def get_md_text(url: str, session: aiohttp.ClientSession):\n",
    "    async with session.get(url) as response:\n",
    "        return await response.text()\n",
    "\n",
    "async def get_all_md_texts(urls: list[str]):\n",
    "    async with aiohttp.ClientSession() as session:\n",
    "        tasks = [get_md_text(url, session) for url in urls]\n",
    "        return await asyncio.gather(*tasks)"
   ]
  },
  {
   "cell_type": "code",
   "execution_count": 11,
   "metadata": {},
   "outputs": [],
   "source": [
    "def load_text_from_file(file_name: str):\n",
    "    with open(file_name, \"r\") as f:\n",
    "        return f.read()"
   ]
  },
  {
   "cell_type": "markdown",
   "metadata": {},
   "source": [
    "### Retrieve raw markdown files from the repositories"
   ]
  },
  {
   "cell_type": "code",
   "execution_count": 9,
   "metadata": {},
   "outputs": [],
   "source": [
    "# Load the raw markdown URLs from the files\n",
    "with open(\"zg_raw_urls.txt\", \"r\") as f:\n",
    "    zg_raw_urls = f.readlines()\n",
    "with open(\"move_raw_urls.txt\", \"r\") as f:\n",
    "    move_raw_urls = f.readlines()\n",
    "with open(\"polygon_raw_urls.txt\", \"r\") as f:\n",
    "    polygon_raw_urls = f.readlines()\n",
    "with open(\"arbitrum_raw_urls.txt\", \"r\") as f:\n",
    "    arbitrum_raw_urls = f.readlines()"
   ]
  },
  {
   "cell_type": "code",
   "execution_count": 13,
   "metadata": {},
   "outputs": [],
   "source": [
    "zg_texts = await get_all_md_texts(zg_raw_urls)\n",
    "move_texts = await get_all_md_texts(move_raw_urls)\n",
    "polygon_texts = await get_all_md_texts(polygon_raw_urls)\n",
    "arbitrum_texts = await get_all_md_texts(arbitrum_raw_urls)\n",
    "mighty_texts = [load_text_from_file(\"mighty_docs.txt\")]"
   ]
  },
  {
   "cell_type": "code",
   "execution_count": 14,
   "metadata": {},
   "outputs": [],
   "source": [
    "# Add Polygon grant program information\n",
    "polygon_grant_program_info = \"\"\"\n",
    "For detailed information about the Polygon Community Grants Program, visit: https://polygon.technology/grants.\n",
    "The second season of the Polygon Community Grants Program (CGP) will distribute up to 35 million POL tokens to builders across the Polygon network from January 14 to April 15, 2025. The program includes two key tracks: Independent Grant Allocators (GAs), responsible for distributing 15 million POL, and a Direct Track, managed by the Community Treasury Board (CTB), with up to 20 million POL available.\n",
    "\n",
    "Season 2 aims to accelerate ecosystem growth by supporting projects focused on AI applications, DePIN (Decentralized Physical Infrastructure Networks), memecoins, and novel experiments while continuing to provide direct funding opportunities for builders with outside-the-box ideas. Don't wait to apply! The Polygon Community Grants Program aims to provide grants to projects that contribute to the Polygon ecosystem. Polygon's commitment to supporting innovative projects through grants is evident in the Polygon Community Grants Program.\n",
    "\"\"\"\n",
    "\n",
    "polygon_texts.append(polygon_grant_program_info)"
   ]
  },
  {
   "cell_type": "markdown",
   "metadata": {},
   "source": [
    "# Text splitting"
   ]
  },
  {
   "cell_type": "code",
   "execution_count": 15,
   "metadata": {},
   "outputs": [],
   "source": [
    "from langchain_text_splitters import RecursiveCharacterTextSplitter\n",
    "\n",
    "CHUNK_SIZE = 2000\n",
    "CHUNK_OVERLAP = 200\n",
    "\n",
    "# Initialize text splitter\n",
    "text_splitter = RecursiveCharacterTextSplitter(chunk_size=CHUNK_SIZE, chunk_overlap=CHUNK_OVERLAP)\n",
    "\n",
    "# Split the texts into chunks\n",
    "zg_texts_split = [doc.page_content for doc in text_splitter.create_documents(zg_texts)]\n",
    "move_texts_split = [doc.page_content for doc in text_splitter.create_documents(move_texts)]\n",
    "polygon_texts_split = [doc.page_content for doc in text_splitter.create_documents(polygon_texts)]\n",
    "arbitrum_texts_split = [doc.page_content for doc in text_splitter.create_documents(arbitrum_texts)]\n",
    "mighty_texts_split = [doc.page_content for doc in text_splitter.create_documents(mighty_texts)]\n"
   ]
  },
  {
   "cell_type": "markdown",
   "metadata": {},
   "source": [
    "# Insert into OpenSearch"
   ]
  },
  {
   "cell_type": "code",
   "execution_count": 16,
   "metadata": {},
   "outputs": [
    {
     "name": "stdout",
     "output_type": "stream",
     "text": [
      "NotFoundError(404, 'index_not_found_exception', 'no such index [cleaned_blockchain_docs]', cleaned_blockchain_docs, index_or_alias)\n"
     ]
    },
    {
     "data": {
      "text/plain": [
       "[UUID('26f49519-513c-4dad-ab38-0a1b49fa0326'),\n",
       " UUID('c98a1195-0f6a-4931-ba86-72b5a9da08e4'),\n",
       " UUID('c98c5e33-e6ba-4b29-8d28-fc9b6d7ecc43'),\n",
       " UUID('6e7d9dc8-3b0f-4440-9e1a-97e0f2672bb4'),\n",
       " UUID('274856e5-761e-4818-807a-08e6f5007da8'),\n",
       " UUID('952775f2-6239-411f-b447-24fcc897473b'),\n",
       " UUID('b8065c7b-0dfc-4526-977d-f7de1b62bbca'),\n",
       " UUID('73e69a97-f5de-4694-b71f-1862ee9be57b'),\n",
       " UUID('48dcd435-c14c-424f-8a84-5efe156f2173'),\n",
       " UUID('832d16cf-b94a-461b-93d0-6bbcecf0d3e2'),\n",
       " UUID('7067e7ac-fa1d-41ba-8110-52bcc687d776'),\n",
       " UUID('fb3fe0ca-cab5-45ec-abe0-9867e2d36040'),\n",
       " UUID('f8ef047a-8d86-4862-98a8-bfbc3a193c53'),\n",
       " UUID('9d9d720e-56fa-4b11-ae49-2808879abff9'),\n",
       " UUID('5dd7c15d-4d95-448a-94f5-3830216f3d05'),\n",
       " UUID('0e2ca42f-51df-4af3-9242-9aea72478010'),\n",
       " UUID('d1d963e1-d381-4b33-8e88-8300aa8f0074'),\n",
       " UUID('b3c2dc35-7f06-4af6-94a3-fb3eb18838a1'),\n",
       " UUID('753556d2-2eca-472f-b456-6a2260f30c2f'),\n",
       " UUID('efc17782-bf27-4e56-af08-bedd8f035376'),\n",
       " UUID('a0f44684-38a4-4710-af79-6f9932f66c8c')]"
      ]
     },
     "execution_count": 16,
     "metadata": {},
     "output_type": "execute_result"
    }
   ],
   "source": [
    "INDEX_NAME = \"cleaned_blockchain_docs\"\n",
    "TEXT_FIELD = \"text\"\n",
    "VECTOR_FIELD = \"vector\"\n",
    "SOURCE_FIELD = \"source\"\n",
    "\n",
    "# This will first print the \n",
    "os_service.bulk_insert_texts(zg_texts_split, [\"0G Labs\"]*len(zg_texts_split), INDEX_NAME, TEXT_FIELD, VECTOR_FIELD, SOURCE_FIELD)\n",
    "os_service.bulk_insert_texts(move_texts_split, [\"Movement Labs\"]*len(move_texts_split), INDEX_NAME, TEXT_FIELD, VECTOR_FIELD, SOURCE_FIELD)\n",
    "os_service.bulk_insert_texts(polygon_texts_split, [\"Polygon\"]*len(polygon_texts_split), INDEX_NAME, TEXT_FIELD, VECTOR_FIELD, SOURCE_FIELD)\n",
    "os_service.bulk_insert_texts(arbitrum_texts_split, [\"Arbitrum\"]*len(arbitrum_texts_split), INDEX_NAME, TEXT_FIELD, VECTOR_FIELD, SOURCE_FIELD)\n",
    "os_service.bulk_insert_texts(mighty_texts_split, [\"Mighty Network\"]*len(mighty_texts_split), INDEX_NAME, TEXT_FIELD, VECTOR_FIELD, SOURCE_FIELD)\n"
   ]
  }
 ],
 "metadata": {
  "kernelspec": {
   "display_name": ".venv-3.12",
   "language": "python",
   "name": "python3"
  },
  "language_info": {
   "codemirror_mode": {
    "name": "ipython",
    "version": 3
   },
   "file_extension": ".py",
   "mimetype": "text/x-python",
   "name": "python",
   "nbconvert_exporter": "python",
   "pygments_lexer": "ipython3",
   "version": "3.12.9"
  }
 },
 "nbformat": 4,
 "nbformat_minor": 2
}
